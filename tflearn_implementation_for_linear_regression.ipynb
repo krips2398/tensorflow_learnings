{
 "cells": [
  {
   "cell_type": "code",
   "execution_count": 3,
   "metadata": {},
   "outputs": [
    {
     "name": "stdout",
     "output_type": "stream",
     "text": [
      "WARNING:tensorflow:From /Users/jangalask/.local/lib/python3.7/site-packages/tflearn/helpers/summarizer.py:9: The name tf.summary.merge is deprecated. Please use tf.compat.v1.summary.merge instead.\n",
      "\n",
      "WARNING:tensorflow:From /Users/jangalask/.local/lib/python3.7/site-packages/tflearn/helpers/trainer.py:25: The name tf.summary.FileWriter is deprecated. Please use tf.compat.v1.summary.FileWriter instead.\n",
      "\n",
      "WARNING:tensorflow:From /Users/jangalask/.local/lib/python3.7/site-packages/tflearn/collections.py:13: The name tf.GraphKeys is deprecated. Please use tf.compat.v1.GraphKeys instead.\n",
      "\n",
      "WARNING:tensorflow:From /Users/jangalask/.local/lib/python3.7/site-packages/tflearn/config.py:123: The name tf.get_collection is deprecated. Please use tf.compat.v1.get_collection instead.\n",
      "\n",
      "WARNING:tensorflow:From /Users/jangalask/.local/lib/python3.7/site-packages/tflearn/config.py:129: The name tf.add_to_collection is deprecated. Please use tf.compat.v1.add_to_collection instead.\n",
      "\n",
      "WARNING:tensorflow:From /Users/jangalask/.local/lib/python3.7/site-packages/tflearn/config.py:131: The name tf.assign is deprecated. Please use tf.compat.v1.assign instead.\n",
      "\n"
     ]
    }
   ],
   "source": [
    "import tensorflow as tf\n",
    "import numpy as np\n",
    "import math\n",
    "import tflearn"
   ]
  },
  {
   "cell_type": "code",
   "execution_count": 2,
   "metadata": {},
   "outputs": [
    {
     "name": "stdout",
     "output_type": "stream",
     "text": [
      "WARNING: pip is being invoked by an old script wrapper. This will fail in a future version of pip.\n",
      "Please see https://github.com/pypa/pip/issues/5599 for advice on fixing the underlying issue.\n",
      "To avoid this problem you can invoke Python with '-m pip' instead of running pip directly.\n",
      "Defaulting to user installation because normal site-packages is not writeable\n",
      "Collecting tflearn\n",
      "  Downloading tflearn-0.3.2.tar.gz (98 kB)\n",
      "\u001b[K     |████████████████████████████████| 98 kB 943 kB/s eta 0:00:01\n",
      "\u001b[?25hRequirement already satisfied: numpy in /Users/jangalask/.local/lib/python3.7/site-packages (from tflearn) (1.18.1)\n",
      "Requirement already satisfied: six in /Users/jangalask/.local/lib/python3.7/site-packages (from tflearn) (1.14.0)\n",
      "Requirement already satisfied: Pillow in /anaconda3/lib/python3.7/site-packages (from tflearn) (6.1.0)\n",
      "Building wheels for collected packages: tflearn\n",
      "  Building wheel for tflearn (setup.py) ... \u001b[?25ldone\n",
      "\u001b[?25h  Created wheel for tflearn: filename=tflearn-0.3.2-py3-none-any.whl size=128208 sha256=af58cadf310034a7a10850ebb527be26a21c3af36ae0da27ff0f30bba638faa3\n",
      "  Stored in directory: /Users/jangalask/Library/Caches/pip/wheels/8e/b7/55/b387552a28a2fefa559a362ffe17c97fac7e618ef948930b3c\n",
      "Successfully built tflearn\n",
      "Installing collected packages: tflearn\n",
      "Successfully installed tflearn-0.3.2\n"
     ]
    }
   ],
   "source": [
    "!pip install tflearn"
   ]
  },
  {
   "cell_type": "code",
   "execution_count": 4,
   "metadata": {},
   "outputs": [],
   "source": [
    "#   Create data in straight Python, create some size(x) and price(y) data points, using price = (m * size) + b.  \n",
    "#        Here b is a price base based on other factors\n",
    "\n",
    "#  generation some house sizes between 1000 and 3500 (typical sq ft of house)\n",
    "num_house = 160\n",
    "np.random.seed(42)\n",
    "house_size = np.random.randint(low=1000, high=3500, size=num_house )"
   ]
  },
  {
   "cell_type": "code",
   "execution_count": 5,
   "metadata": {},
   "outputs": [],
   "source": [
    "# Generate house prices from house size with a random noise added+.\n",
    "np.random.seed(42)\n",
    "house_price = house_size * 100.0 + np.random.randint(low=20000, high=70000, size=num_house)"
   ]
  },
  {
   "cell_type": "code",
   "execution_count": 6,
   "metadata": {},
   "outputs": [],
   "source": [
    "# you need to normalize values to prevent under/overflows.\n",
    "def normalize(array):\n",
    "    return (array - array.mean()) / array.std()\n"
   ]
  },
  {
   "cell_type": "code",
   "execution_count": 7,
   "metadata": {},
   "outputs": [],
   "source": [
    "# 1. Get Data\n",
    "# Split the data into training and testing, and normalized the data \n",
    "\n",
    "# define number of training samples, 0.7 = 70%.  We can take the first 70% since the values are randomized\n",
    "num_train_samples = math.floor(num_house * 0.7)"
   ]
  },
  {
   "cell_type": "code",
   "execution_count": 8,
   "metadata": {},
   "outputs": [],
   "source": [
    "# define training data\n",
    "train_house_size = np.asarray(house_size[:num_train_samples])\n",
    "train_price = np.asanyarray(house_price[:num_train_samples:])\n",
    "\n",
    "train_house_size_norm = normalize(train_house_size)\n",
    "train_price_norm = normalize(train_price)\n",
    "\n",
    "# define test data\n",
    "test_house_size = np.array(house_size[num_train_samples:])\n",
    "test_house_price = np.array(house_price[num_train_samples:])\n",
    "\n",
    "test_house_size_norm = normalize(test_house_size)\n",
    "test_house_price_norm = normalize(test_house_price)"
   ]
  },
  {
   "cell_type": "code",
   "execution_count": 9,
   "metadata": {},
   "outputs": [
    {
     "name": "stdout",
     "output_type": "stream",
     "text": [
      "WARNING:tensorflow:From /Users/jangalask/.local/lib/python3.7/site-packages/tflearn/layers/core.py:81: The name tf.placeholder is deprecated. Please use tf.compat.v1.placeholder instead.\n",
      "\n"
     ]
    }
   ],
   "source": [
    "#one value, one value out. Names let u see in tensorboard\n",
    "input = tflearn.input_data(shape=[None], name=\"InputData\") # Input data is a list of undefined length\n",
    "linear = tflearn.layers.core.single_unit(input, activation='linear', name='Linear')\n",
    "#ddefine a single neuron with linear activation. The euqation, it is linear(Wx +b)"
   ]
  },
  {
   "cell_type": "code",
   "execution_count": 10,
   "metadata": {},
   "outputs": [
    {
     "name": "stdout",
     "output_type": "stream",
     "text": [
      "WARNING:tensorflow:From /Users/jangalask/.local/lib/python3.7/site-packages/tflearn/optimizers.py:135: The name tf.train.GradientDescentOptimizer is deprecated. Please use tf.compat.v1.train.GradientDescentOptimizer instead.\n",
      "\n"
     ]
    }
   ],
   "source": [
    "#define the optimizer, metric we try to optimize, and how we calculate loss\n",
    "reg = tflearn.regression(linear, optimizer='sgd', loss='mean_square', metric='R2', learning_rate=0.01, name=\"regression\")# set the learning rate, default is off"
   ]
  },
  {
   "cell_type": "code",
   "execution_count": 11,
   "metadata": {},
   "outputs": [
    {
     "name": "stdout",
     "output_type": "stream",
     "text": [
      "WARNING:tensorflow:From /Users/jangalask/.local/lib/python3.7/site-packages/tflearn/summaries.py:46: The name tf.summary.scalar is deprecated. Please use tf.compat.v1.summary.scalar instead.\n",
      "\n",
      "WARNING:tensorflow:From /Users/jangalask/.local/lib/python3.7/site-packages/tensorflow/python/ops/clip_ops.py:286: add_dispatch_support.<locals>.wrapper (from tensorflow.python.ops.array_ops) is deprecated and will be removed in a future version.\n",
      "Instructions for updating:\n",
      "Use tf.where in 2.0, which has the same broadcast rule as np.where\n",
      "WARNING:tensorflow:From /Users/jangalask/.local/lib/python3.7/site-packages/tflearn/helpers/trainer.py:134: The name tf.train.Saver is deprecated. Please use tf.compat.v1.train.Saver instead.\n",
      "\n"
     ]
    }
   ],
   "source": [
    "model = tflearn.DNN(reg)"
   ]
  },
  {
   "cell_type": "code",
   "execution_count": 12,
   "metadata": {},
   "outputs": [
    {
     "name": "stdout",
     "output_type": "stream",
     "text": [
      "Training Step: 1999  | total loss: \u001b[1m\u001b[32m0.04127\u001b[0m\u001b[0m | time: 0.001s\n",
      "| SGD | epoch: 1000 | loss: 0.04127 -- iter: 064/112\n",
      "Training Step: 2000  | total loss: \u001b[1m\u001b[32m0.04109\u001b[0m\u001b[0m | time: 0.003s\n",
      "| SGD | epoch: 1000 | loss: 0.04109 -- iter: 112/112\n",
      "--\n"
     ]
    }
   ],
   "source": [
    "#train the model with training data\n",
    "model.fit(train_house_size_norm, train_price_norm, n_epoch=1000)"
   ]
  },
  {
   "cell_type": "code",
   "execution_count": 13,
   "metadata": {},
   "outputs": [
    {
     "name": "stdout",
     "output_type": "stream",
     "text": [
      " Weights: W=[0.9787439], b=[-0.00142506]\n",
      "\n"
     ]
    }
   ],
   "source": [
    "#Output W and b for the trained linear equation\n",
    "print(\" Weights: W={0}, b={1}\\n\".format(model.get_weights(linear.W), model.get_weights(linear.b)))"
   ]
  },
  {
   "cell_type": "code",
   "execution_count": 14,
   "metadata": {},
   "outputs": [
    {
     "name": "stdout",
     "output_type": "stream",
     "text": [
      "Accuracy [0.9579417109489441] \n"
     ]
    }
   ],
   "source": [
    "#Evaluate Accuracy\n",
    "print(\"Accuracy {0} \".format(model.evaluate(test_house_size_norm,test_house_price_norm)))"
   ]
  },
  {
   "cell_type": "code",
   "execution_count": 15,
   "metadata": {},
   "outputs": [
    {
     "name": "stdout",
     "output_type": "stream",
     "text": [
      "INFO:tensorflow:/Users/jangalask/Desktop/Interpretability/tensorflow_learnings/tflearn_regression.tflearn is not in all_model_checkpoint_paths. Manually adding it.\n"
     ]
    }
   ],
   "source": [
    "model.save('tflearn_regression.tflearn')"
   ]
  },
  {
   "cell_type": "code",
   "execution_count": 17,
   "metadata": {},
   "outputs": [
    {
     "name": "stdout",
     "output_type": "stream",
     "text": [
      "INFO:tensorflow:Restoring parameters from /Users/jangalask/Desktop/Interpretability/tensorflow_learnings/tflearn_models/tflearn_regression.tflearn\n"
     ]
    }
   ],
   "source": [
    "model.load('./tflearn_models/tflearn_regression.tflearn')"
   ]
  },
  {
   "cell_type": "code",
   "execution_count": 20,
   "metadata": {},
   "outputs": [
    {
     "data": {
      "text/plain": [
       "array([-0.7522289 , -1.6219    , -1.9603076 , -0.4465705 ,  1.0871799 ,\n",
       "        0.3648799 , -0.76496464, -1.3107833 , -0.4793196 , -2.1622605 ,\n",
       "        1.1635946 ,  0.8615749 ,  1.80948   ,  0.7178427 , -1.3526294 ,\n",
       "       -0.4083632 , -0.18275815,  0.7978961 ,  0.97437745,  0.57047164,\n",
       "       -0.88868356, -0.42291835,  0.65416384,  0.14473306,  1.2691195 ,\n",
       "        0.1283585 ,  0.6905517 ,  0.4467527 ,  1.372825  ,  0.38671264,\n",
       "        1.7348847 ,  0.22660585,  0.21205068,  0.0410275 , -0.56665057,\n",
       "        0.8815883 , -0.00263799, -1.0451516 ,  0.35578293,  0.27391014,\n",
       "       -1.1561347 , -1.7583547 , -0.04812288, -1.0924559 , -1.1288438 ,\n",
       "        1.3000493 ,  0.6323311 ,  0.38489327], dtype=float32)"
      ]
     },
     "execution_count": 20,
     "metadata": {},
     "output_type": "execute_result"
    }
   ],
   "source": [
    "model.predict(test_house_size_norm)"
   ]
  },
  {
   "cell_type": "code",
   "execution_count": 21,
   "metadata": {},
   "outputs": [
    {
     "data": {
      "text/plain": [
       "array([-7.67109625e-01, -1.65566795e+00, -2.00142495e+00, -4.54812977e-01,\n",
       "        1.11224699e+00,  3.74260270e-01, -7.80121986e-01, -1.33779457e+00,\n",
       "       -4.88273332e-01, -2.20776381e+00,  1.19032116e+00,  8.81742324e-01,\n",
       "        1.85023372e+00,  7.34888542e-01, -1.38054947e+00, -4.15775895e-01,\n",
       "       -1.85271226e-01,  8.16680522e-01,  9.96994658e-01,  5.84316944e-01,\n",
       "       -9.06527772e-01, -4.30647164e-01,  6.69826741e-01,  1.49332326e-01,\n",
       "        1.29813786e+00,  1.32602148e-01,  7.07004913e-01,  4.57911158e-01,\n",
       "        1.40409565e+00,  3.96567173e-01,  1.77401846e+00,  2.32983214e-01,\n",
       "        2.18111945e-01,  4.33745345e-02, -5.77500946e-01,  9.02190319e-01,\n",
       "       -1.23927242e-03, -1.06639391e+00,  3.64965726e-01,  2.81314838e-01,\n",
       "       -1.17978734e+00, -1.79508609e+00, -4.77119880e-02, -1.11472554e+00,\n",
       "       -1.15190371e+00,  1.32973930e+00,  6.47519837e-01,  3.94708264e-01])"
      ]
     },
     "execution_count": 21,
     "metadata": {},
     "output_type": "execute_result"
    }
   ],
   "source": [
    "test_house_size_norm"
   ]
  },
  {
   "cell_type": "code",
   "execution_count": null,
   "metadata": {},
   "outputs": [],
   "source": []
  }
 ],
 "metadata": {
  "kernelspec": {
   "display_name": "Python 3",
   "language": "python",
   "name": "python3"
  },
  "language_info": {
   "codemirror_mode": {
    "name": "ipython",
    "version": 3
   },
   "file_extension": ".py",
   "mimetype": "text/x-python",
   "name": "python",
   "nbconvert_exporter": "python",
   "pygments_lexer": "ipython3",
   "version": "3.7.3"
  }
 },
 "nbformat": 4,
 "nbformat_minor": 2
}
